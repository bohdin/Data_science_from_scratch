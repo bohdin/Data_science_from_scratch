{
 "cells": [
  {
   "cell_type": "code",
   "execution_count": 43,
   "id": "889ca60e",
   "metadata": {},
   "outputs": [],
   "source": [
    "from typing import List, Tuple, Callable\n",
    "import math"
   ]
  },
  {
   "cell_type": "code",
   "execution_count": 38,
   "id": "ef7c99ff",
   "metadata": {},
   "outputs": [],
   "source": [
    "Vector = List[float]\n",
    "Matrix = List[List[float]]"
   ]
  },
  {
   "cell_type": "code",
   "execution_count": 12,
   "id": "62e2deb2",
   "metadata": {},
   "outputs": [],
   "source": [
    "vector_1 = [i for i in range(5, 10)]\n",
    "vector_2 = [i for i in range(1, 6)]"
   ]
  },
  {
   "cell_type": "code",
   "execution_count": 21,
   "id": "d13f5893",
   "metadata": {},
   "outputs": [],
   "source": [
    "def add(v: Vector, w: Vector) -> Vector:\n",
    "    assert len(v) == len(w), \"vectors must be the same length\"\n",
    "\n",
    "    return [v_i + w_i for v_i, w_i in zip(v, w)]\n",
    "\n",
    "\n",
    "def subtract(v: Vector, w: Vector) -> Vector:\n",
    "    assert len(v) == len(w), \"vectors must be the same length\"\n",
    "\n",
    "    return [v_i - w_i for v_i, w_i in zip(v, w)]\n",
    "\n",
    "\n",
    "def vector_sum(vectors: List[Vector]) -> Vector:\n",
    "    num_elem = len(vectors[0])\n",
    "\n",
    "    assert all(len(v) == num_elem for v in vectors), \"different sizes\"\n",
    "\n",
    "    return [sum(vector[i] for vector in vectors) for i in range(num_elem)]"
   ]
  },
  {
   "cell_type": "code",
   "execution_count": 26,
   "id": "2ef292f0",
   "metadata": {},
   "outputs": [],
   "source": [
    "assert add([1, 2, 3], [4, 5, 6]) == [5, 7, 9]\n",
    "assert subtract([5, 7, 9], [4, 5, 6]) == [1, 2, 3]\n",
    "assert vector_sum([[1, 2], [3, 4], [5, 6], [7, 8]]) == [16, 20]"
   ]
  },
  {
   "cell_type": "code",
   "execution_count": null,
   "id": "111c5b7f",
   "metadata": {},
   "outputs": [
    {
     "name": "stdout",
     "output_type": "stream",
     "text": [
      "[5, 6, 7, 8, 9] + [1, 2, 3, 4, 5] = [6, 8, 10, 12, 14]\n",
      "[5, 6, 7, 8, 9] - [1, 2, 3, 4, 5] = [4, 4, 4, 4, 4]\n",
      "Sum of [1, 2], [3, 4], [5, 6], [7, 8] = [16, 20]\n"
     ]
    }
   ],
   "source": [
    "print(f\"{vector_1} + {vector_2} = {add(vector_1, vector_2)}\")\n",
    "print(f\"{vector_1} - {vector_2} = {subtract(vector_1, vector_2)}\")\n",
    "print(\n",
    "    f\"Sum of [1, 2], [3, 4], [5, 6], [7, 8] = {vector_sum([[1, 2], [3, 4], [5, 6], [7, 8]])}\"\n",
    ")"
   ]
  },
  {
   "cell_type": "code",
   "execution_count": null,
   "id": "db029042",
   "metadata": {},
   "outputs": [],
   "source": [
    "def scalar_multiply(c: float, v: Vector) -> Vector:\n",
    "    return [c * v_i for v_i in v]\n",
    "\n",
    "\n",
    "assert scalar_multiply(2, [1, 2, 3]) == [2, 4, 6]"
   ]
  },
  {
   "cell_type": "code",
   "execution_count": null,
   "id": "de90dc74",
   "metadata": {},
   "outputs": [],
   "source": [
    "def vector_mean(vectors: List[Vector]) -> Vector:\n",
    "    n = len(vectors)\n",
    "\n",
    "    return scalar_multiply(1 / n, vector_sum(vectors))\n",
    "\n",
    "\n",
    "assert vector_mean([[1, 2], [3, 4], [5, 6]]) == [3, 4]"
   ]
  },
  {
   "cell_type": "code",
   "execution_count": null,
   "id": "4a1536fa",
   "metadata": {},
   "outputs": [],
   "source": [
    "def dot(v: Vector, w: Vector) -> float:\n",
    "    assert len(v) == len(w), \"vectors must be the same length\"\n",
    "\n",
    "    return sum(v_i * w_i for v_i, w_i in zip(v, w))\n",
    "\n",
    "\n",
    "assert dot([1, 2, 3], [4, 5, 6]) == 32"
   ]
  },
  {
   "cell_type": "code",
   "execution_count": null,
   "id": "43246bca",
   "metadata": {},
   "outputs": [],
   "source": [
    "def sum_of_squares(v: Vector) -> float:\n",
    "\n",
    "    return dot(v, v)\n",
    "\n",
    "\n",
    "assert sum_of_squares([1, 2, 3]) == 14"
   ]
  },
  {
   "cell_type": "code",
   "execution_count": null,
   "id": "bf9b822c",
   "metadata": {},
   "outputs": [],
   "source": [
    "def magnitude(v: Vector) -> float:\n",
    "\n",
    "    return math.sqrt(sum_of_squares(v))\n",
    "\n",
    "\n",
    "assert magnitude([3, 4]) == 5"
   ]
  },
  {
   "cell_type": "code",
   "execution_count": null,
   "id": "301dbfaf",
   "metadata": {},
   "outputs": [],
   "source": [
    "def distance(v: Vector, w: Vector) -> float:\n",
    "\n",
    "    return magnitude(subtract(v, w))\n",
    "\n",
    "\n",
    "assert distance([1, 2, 3], [4, 2, 7]) == 5"
   ]
  },
  {
   "cell_type": "code",
   "execution_count": null,
   "id": "64fb5679",
   "metadata": {},
   "outputs": [],
   "source": [
    "def shape(A: Matrix) -> Tuple[int, int]:\n",
    "    num_rows = len(A)\n",
    "    num_cols = len(A[0]) if A else 0\n",
    "\n",
    "    return num_rows, num_cols\n",
    "\n",
    "\n",
    "assert shape([[1, 2, 3], [4, 5, 6]]) == (2, 3)"
   ]
  },
  {
   "cell_type": "code",
   "execution_count": 42,
   "id": "5102d3c1",
   "metadata": {},
   "outputs": [],
   "source": [
    "def get_row(A: Matrix, i: int) -> Vector:\n",
    "    return A[i]\n",
    "\n",
    "\n",
    "assert get_row([[1, 2, 3], [4, 5, 6]], 0) == [1, 2, 3]\n",
    "\n",
    "\n",
    "def get_column(A: Matrix, j: int) -> Vector:\n",
    "    return [A_i[j] for A_i in A]\n",
    "\n",
    "\n",
    "assert get_column([[1, 2, 3], [4, 5, 6]], 2) == [3, 6]"
   ]
  },
  {
   "cell_type": "code",
   "execution_count": 47,
   "id": "8a405801",
   "metadata": {},
   "outputs": [],
   "source": [
    "def make_matrix(\n",
    "    num_rows: int, num_cols: int, entry_fn: Callable[[int, int], float]\n",
    ") -> Matrix:\n",
    "\n",
    "    return [[entry_fn(i, j) for j in range(num_cols)] for i in range(num_rows)]\n",
    "\n",
    "\n",
    "assert make_matrix(3, 3, lambda i, j: i + j) == [\n",
    "                                                    [0, 1, 2],\n",
    "                                                    [1, 2, 3],\n",
    "                                                    [2, 3, 4]\n",
    "                                                ]\n",
    "\n",
    "\n",
    "def identity_matrix(n: int) -> Matrix:\n",
    "\n",
    "    return make_matrix(n, n, lambda i, j: 1 if i == j else 0)\n",
    "\n",
    "assert identity_matrix(5) == [[1, 0, 0, 0, 0],\n",
    "                              [0, 1, 0, 0, 0],\n",
    "                              [0, 0, 1, 0, 0],\n",
    "                              [0, 0, 0, 1, 0],\n",
    "                              [0, 0, 0, 0, 1]]"
   ]
  },
  {
   "cell_type": "code",
   "execution_count": 49,
   "id": "b4f6ab33",
   "metadata": {},
   "outputs": [
    {
     "data": {
      "text/plain": [
       "[4, 6, 7]"
      ]
     },
     "execution_count": 49,
     "metadata": {},
     "output_type": "execute_result"
    }
   ],
   "source": [
    "friend_matrix = [[0, 1, 1, 0, 0, 0, 0, 0, 0, 0],\n",
    "                 [1, 0, 1, 1, 0, 0, 0, 0, 0, 0],\n",
    "                 [1, 1, 0, 1, 0, 0, 0, 0, 0, 0],\n",
    "                 [0, 1, 1, 0, 1, 0, 0, 0, 0, 0],\n",
    "                 [0, 0, 0, 1, 0, 1, 0, 0, 0, 0],\n",
    "                 [0, 0, 0, 0, 1, 0, 1, 1, 0, 0],\n",
    "                 [0, 0, 0, 0, 0, 1, 0, 0, 1, 0], \n",
    "                 [0, 0, 0, 0, 0, 1, 0, 0, 1, 0],\n",
    "                 [0, 0, 0, 0, 0, 0, 1, 1, 0, 1], \n",
    "                 [0, 0, 0, 0, 0, 0, 0, 0, 1, 0]]\n",
    "\n",
    "assert friend_matrix[0][2] == 1\n",
    "assert friend_matrix[0][8] == 0\n",
    "\n",
    "friends_of_five = [i for i, is_friend in enumerate(friend_matrix[5]) if is_friend]\n",
    "friends_of_five"
   ]
  }
 ],
 "metadata": {
  "kernelspec": {
   "display_name": ".venv",
   "language": "python",
   "name": "python3"
  },
  "language_info": {
   "codemirror_mode": {
    "name": "ipython",
    "version": 3
   },
   "file_extension": ".py",
   "mimetype": "text/x-python",
   "name": "python",
   "nbconvert_exporter": "python",
   "pygments_lexer": "ipython3",
   "version": "3.10.11"
  }
 },
 "nbformat": 4,
 "nbformat_minor": 5
}
