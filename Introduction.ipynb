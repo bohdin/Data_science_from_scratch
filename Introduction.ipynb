{
 "cells": [
  {
   "cell_type": "code",
   "execution_count": 2,
   "id": "5e525b0d",
   "metadata": {},
   "outputs": [],
   "source": [
    "from collections import Counter, defaultdict\n",
    "import re"
   ]
  },
  {
   "cell_type": "code",
   "execution_count": 28,
   "id": "91cc0f86",
   "metadata": {},
   "outputs": [],
   "source": [
    "users = [\n",
    "    {\"id\": 0, \"name\": \"Hero\"},\n",
    "    {\"id\": 1, \"name\": \"Dunn\"},\n",
    "    {\"id\": 2, \"name\": \"Sue\"},\n",
    "    {\"id\": 3, \"name\": \"Chi\"},\n",
    "    {\"id\": 4, \"name\": \"Thor\"},\n",
    "    {\"id\": 5, \"name\": \"Clive\"},\n",
    "    {\"id\": 6, \"name\": \"Hicks\"},\n",
    "    {\"id\": 7, \"name\": \"Devin\"},\n",
    "    {\"id\": 8, \"name\": \"Kate\"},\n",
    "    {\"id\": 9, \"name\": \"Klein\"},\n",
    "]\n",
    "\n",
    "friendships = [\n",
    "    (0, 1),\n",
    "    (0, 2),\n",
    "    (1, 2),\n",
    "    (1, 3),\n",
    "    (2, 3),\n",
    "    (3, 4),\n",
    "    (4, 5),\n",
    "    (5, 6),\n",
    "    (5, 7),\n",
    "    (6, 8),\n",
    "    (7, 8),\n",
    "    (8, 9),\n",
    "]"
   ]
  },
  {
   "cell_type": "code",
   "execution_count": 29,
   "id": "097f8cd9",
   "metadata": {},
   "outputs": [],
   "source": [
    "friendships_dict = {user[\"id\"]: [] for user in users}\n",
    "\n",
    "for i, j in friendships:\n",
    "    friendships_dict[i].append(j)\n",
    "    friendships_dict[j].append(i)"
   ]
  },
  {
   "cell_type": "code",
   "execution_count": 30,
   "id": "62678fa8",
   "metadata": {},
   "outputs": [],
   "source": [
    "def num_of_friends(user):\n",
    "    user_id = user[\"id\"]\n",
    "    friends_ids = friendships_dict[user_id]\n",
    "    return len(friends_ids)"
   ]
  },
  {
   "cell_type": "code",
   "execution_count": 31,
   "id": "15df9ff7",
   "metadata": {},
   "outputs": [
    {
     "name": "stdout",
     "output_type": "stream",
     "text": [
      "Total connections: 24, avg connections: 2.4\n"
     ]
    }
   ],
   "source": [
    "total_connections = sum(num_of_friends(user) for user in users)\n",
    "num_users = len(users)\n",
    "avg_connection = total_connections / num_users\n",
    "print(f\"Total connections: {total_connections}, avg connections: {avg_connection}\")"
   ]
  },
  {
   "cell_type": "code",
   "execution_count": 32,
   "id": "aecb4c8b",
   "metadata": {},
   "outputs": [
    {
     "name": "stdout",
     "output_type": "stream",
     "text": [
      "[(1, 3), (2, 3), (3, 3), (5, 3), (8, 3), (0, 2), (4, 2), (6, 2), (7, 2), (9, 1)]\n"
     ]
    }
   ],
   "source": [
    "num_friends_by_id = [(user[\"id\"], num_of_friends(user)) for user in users]\n",
    "\n",
    "num_friends_by_id.sort(key=lambda id_and_friends: id_and_friends[1], reverse=True)\n",
    "print(num_friends_by_id)"
   ]
  },
  {
   "cell_type": "code",
   "execution_count": 33,
   "id": "21be9754",
   "metadata": {},
   "outputs": [],
   "source": [
    "def friends_of_friends(user):\n",
    "    user_id = user[\"id\"]\n",
    "    return Counter(\n",
    "        foaf_id\n",
    "        for friends_id in friendships_dict[user_id]\n",
    "        for foaf_id in friendships_dict[friends_id]\n",
    "        if foaf_id != user_id\n",
    "        if foaf_id not in friendships_dict[user_id]\n",
    "    )"
   ]
  },
  {
   "cell_type": "code",
   "execution_count": 35,
   "id": "aa914f67",
   "metadata": {},
   "outputs": [],
   "source": [
    "interests = [\n",
    "    (0, \"Hadoop\"),\n",
    "    (0, \"Big Data\"),\n",
    "    (0, \"HBase\"),\n",
    "    (0, \"Java\"),\n",
    "    (0, \"Spark\"),\n",
    "    (0, \"Storm\"),\n",
    "    (0, \"Cassandra\"),\n",
    "    (1, \"NoSQL\"),\n",
    "    (1, \"MongoDB\"),\n",
    "    (1, \"Cassandra\"),\n",
    "    (1, \"HBase\"),\n",
    "    (1, \"Postgres\"),\n",
    "    (2, \"Python\"),\n",
    "    (2, \"scikit-learn\"),\n",
    "    (2, \"scipy\"),\n",
    "    (2, \"numpy\"),\n",
    "    (2, \"statsmodels\"),\n",
    "    (2, \"pandas\"),\n",
    "    (3, \"R\"),\n",
    "    (3, \"Python\"),\n",
    "    (3, \"statistics\"),\n",
    "    (3, \"regression\"),\n",
    "    (3, \"probability\"),\n",
    "    (4, \"machine learning\"),\n",
    "    (4, \"regression\"),\n",
    "    (4, \"decision trees\"),\n",
    "    (4, \"libsvm\"),\n",
    "    (5, \"Python\"),\n",
    "    (5, \"R\"),\n",
    "    (5, \"Java\"),\n",
    "    (5, \"C++\"),\n",
    "    (5, \"Haskell\"),\n",
    "    (5, \"programming languages\"),\n",
    "    (6, \"statistics\"),\n",
    "    (6, \"probability\"),\n",
    "    (6, \"mathematics\"),\n",
    "    (6, \"theory\"),\n",
    "    (7, \"machine learning\"),\n",
    "    (7, \"scikit-learn\"),\n",
    "    (7, \"Mahout\"),\n",
    "    (7, \"neural networks\"),\n",
    "    (8, \"neural networks\"),\n",
    "    (8, \"deep learning\"),\n",
    "    (8, \"Big Data\"),\n",
    "    (8, \"artificial intelligence\"),\n",
    "    (9, \"Hadoop\"),\n",
    "    (9, \"Java\"),\n",
    "    (9, \"MapReduce\"),\n",
    "    (9, \"Big Data\"),\n",
    "]"
   ]
  },
  {
   "cell_type": "code",
   "execution_count": 36,
   "id": "7ce8d4ed",
   "metadata": {},
   "outputs": [
    {
     "name": "stdout",
     "output_type": "stream",
     "text": [
      "defaultdict(<class 'list'>, {'Hadoop': [0, 9], 'Big Data': [0, 8, 9], 'HBase': [0, 1], 'Java': [0, 5, 9], 'Spark': [0], 'Storm': [0], 'Cassandra': [0, 1], 'NoSQL': [1], 'MongoDB': [1], 'Postgres': [1], 'Python': [2, 3, 5], 'scikit-learn': [2, 7], 'scipy': [2], 'numpy': [2], 'statsmodels': [2], 'pandas': [2], 'R': [3, 5], 'statistics': [3, 6], 'regression': [3, 4], 'probability': [3, 6], 'machine learning': [4, 7], 'decision trees': [4], 'libsvm': [4], 'C++': [5], 'Haskell': [5], 'programming languages': [5], 'mathematics': [6], 'theory': [6], 'Mahout': [7], 'neural networks': [7, 8], 'deep learning': [8], 'artificial intelligence': [8], 'MapReduce': [9]})\n",
      "defaultdict(<class 'list'>, {0: ['Hadoop', 'Big Data', 'HBase', 'Java', 'Spark', 'Storm', 'Cassandra'], 1: ['NoSQL', 'MongoDB', 'Cassandra', 'HBase', 'Postgres'], 2: ['Python', 'scikit-learn', 'scipy', 'numpy', 'statsmodels', 'pandas'], 3: ['R', 'Python', 'statistics', 'regression', 'probability'], 4: ['machine learning', 'regression', 'decision trees', 'libsvm'], 5: ['Python', 'R', 'Java', 'C++', 'Haskell', 'programming languages'], 6: ['statistics', 'probability', 'mathematics', 'theory'], 7: ['machine learning', 'scikit-learn', 'Mahout', 'neural networks'], 8: ['neural networks', 'deep learning', 'Big Data', 'artificial intelligence'], 9: ['Hadoop', 'Java', 'MapReduce', 'Big Data']})\n"
     ]
    }
   ],
   "source": [
    "user_ids_by_interests = defaultdict(list)\n",
    "interests_by_user_ids = defaultdict(list)\n",
    "\n",
    "for user_id, interest in interests:\n",
    "    user_ids_by_interests[interest].append(user_id)\n",
    "    interests_by_user_ids[user_id].append(interest)\n",
    "\n",
    "print(user_ids_by_interests)\n",
    "print(interests_by_user_ids)"
   ]
  },
  {
   "cell_type": "code",
   "execution_count": 37,
   "id": "3e00004c",
   "metadata": {},
   "outputs": [],
   "source": [
    "def most_common_interests_with(user):\n",
    "    user_id = user[\"id\"]\n",
    "\n",
    "    return Counter(\n",
    "        interested_user_id\n",
    "        for interest in interests_by_user_ids[user_id]\n",
    "        for interested_user_id in user_ids_by_interests[interest]\n",
    "        if interested_user_id != user_id\n",
    "    )"
   ]
  },
  {
   "cell_type": "code",
   "execution_count": null,
   "id": "489be306",
   "metadata": {},
   "outputs": [
    {
     "name": "stdout",
     "output_type": "stream",
     "text": [
      "Counter({0: 2, 5: 1})\n",
      "Counter({5: 2, 6: 2, 2: 1, 4: 1})\n"
     ]
    }
   ],
   "source": [
    "print(friends_of_friends(users[3]))\n",
    "print(most_common_interests_with(users[3]))"
   ]
  },
  {
   "cell_type": "code",
   "execution_count": 7,
   "id": "bf653180",
   "metadata": {},
   "outputs": [
    {
     "name": "stdout",
     "output_type": "stream",
     "text": [
      "True\n"
     ]
    }
   ],
   "source": [
    "re_examples = {\n",
    "    not re.match(\"a\", \"cat\"),\n",
    "    re.search(\"a\", \"cat\"),\n",
    "    3 == len(re.split(\"[ab]\", \"carbs\")),\n",
    "    \"R-D-\" == re.sub(\"[0-9]\", \"-\", \"R2D2\")\n",
    "}\n",
    "print(all(re_examples))"
   ]
  },
  {
   "cell_type": "code",
   "execution_count": 6,
   "id": "c5dfd23c",
   "metadata": {},
   "outputs": [
    {
     "name": "stdout",
     "output_type": "stream",
     "text": [
      "4\n",
      "6\n"
     ]
    }
   ],
   "source": [
    "def doubler(f):\n",
    "    def g(*args, **kwargs):\n",
    "        return 2 * f(*args, **kwargs)\n",
    "    return g\n",
    "\n",
    "def f1(x):\n",
    "    return x + 1\n",
    "\n",
    "def f2(x, y):\n",
    "    return x + y\n",
    "\n",
    "g1 = doubler(f1)\n",
    "g2 = doubler(f2)\n",
    "print(g1(1))\n",
    "print(g2(1, 2))"
   ]
  },
  {
   "cell_type": "code",
   "execution_count": null,
   "id": "938cd09f",
   "metadata": {},
   "outputs": [],
   "source": []
  }
 ],
 "metadata": {
  "kernelspec": {
   "display_name": ".venv",
   "language": "python",
   "name": "python3"
  },
  "language_info": {
   "codemirror_mode": {
    "name": "ipython",
    "version": 3
   },
   "file_extension": ".py",
   "mimetype": "text/x-python",
   "name": "python",
   "nbconvert_exporter": "python",
   "pygments_lexer": "ipython3",
   "version": "3.10.11"
  }
 },
 "nbformat": 4,
 "nbformat_minor": 5
}
