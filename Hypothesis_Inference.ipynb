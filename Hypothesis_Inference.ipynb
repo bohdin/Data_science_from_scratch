{
 "cells": [
  {
   "cell_type": "code",
   "execution_count": 46,
   "id": "9140f499",
   "metadata": {},
   "outputs": [],
   "source": [
    "from typing import Tuple, List\n",
    "import math\n",
    "from scratch.probability import normal_cdf, inverse_normal_cdf\n",
    "import random"
   ]
  },
  {
   "cell_type": "code",
   "execution_count": 7,
   "id": "e6b2a24b",
   "metadata": {},
   "outputs": [],
   "source": [
    "def normal_approximation_to_binomial(n: int, p: float) -> Tuple[float, float]:\n",
    "    mu = n * p\n",
    "    sigma = math.sqrt(p * (1 - p) * n)\n",
    "    return mu, sigma"
   ]
  },
  {
   "cell_type": "code",
   "execution_count": 8,
   "id": "eb559368",
   "metadata": {},
   "outputs": [],
   "source": [
    "normal_probability_below = normal_cdf\n",
    "\n",
    "\n",
    "def normal_probability_above(lo: float, mu: float = 0, sigma: float = 1) -> float:\n",
    "    return 1 - normal_cdf(lo, mu, sigma)\n",
    "\n",
    "\n",
    "def normal_probability_between(\n",
    "    lo: float, hi: float, mu: float = 0, sigma: float = 1\n",
    ") -> float:\n",
    "    return normal_cdf(hi, mu, sigma) - normal_cdf(lo, mu, sigma)\n",
    "\n",
    "\n",
    "def normal_probability_outside(\n",
    "    lo: float, hi: float, mu: float = 0, sigma: float = 1\n",
    ") -> float:\n",
    "    return 1 - normal_probability_between(lo, hi, mu, sigma)"
   ]
  },
  {
   "cell_type": "code",
   "execution_count": 13,
   "id": "bbe71c3a",
   "metadata": {},
   "outputs": [],
   "source": [
    "def normal_upper_bound(probability: float, mu: float = 0, sigma: float = 1) -> float:\n",
    "    return inverse_normal_cdf(probability, mu, sigma)\n",
    "\n",
    "\n",
    "def normal_lower_bound(probability: float, mu: float = 0, sigma: float = 1) -> float:\n",
    "    return inverse_normal_cdf(1 - probability, mu, sigma)\n",
    "\n",
    "\n",
    "def normal_two_sided_bounds(\n",
    "    probability: float, mu: float = 0, sigma: float = 1\n",
    ") -> float:\n",
    "    tail_probability = (1 - probability) / 2\n",
    "\n",
    "    upper_bound = normal_lower_bound(tail_probability, mu, sigma)\n",
    "\n",
    "    lower_bound = normal_upper_bound(tail_probability, mu, sigma)\n",
    "\n",
    "    return lower_bound, upper_bound"
   ]
  },
  {
   "cell_type": "code",
   "execution_count": 10,
   "id": "b49dc852",
   "metadata": {},
   "outputs": [],
   "source": [
    "mu_0, sigma_0 = normal_approximation_to_binomial(1000, 0.5)"
   ]
  },
  {
   "cell_type": "code",
   "execution_count": 14,
   "id": "1ab0e5d8",
   "metadata": {},
   "outputs": [],
   "source": [
    "lower_bound, upper_bound = normal_two_sided_bounds(0.95, mu_0, sigma_0)"
   ]
  },
  {
   "cell_type": "code",
   "execution_count": null,
   "id": "6a9d04c7",
   "metadata": {},
   "outputs": [
    {
     "name": "stdout",
     "output_type": "stream",
     "text": [
      "0.8865480012953671\n"
     ]
    }
   ],
   "source": [
    "lo, hi = normal_two_sided_bounds(0.95, mu_0, sigma_0)\n",
    "\n",
    "mu_1, sigma_1 = normal_approximation_to_binomial(1000, 0.55)\n",
    "\n",
    "type_2_probability = normal_probability_between(lo, hi, mu_1, sigma_1)\n",
    "power = 1 - type_2_probability\n",
    "\n",
    "print(power)"
   ]
  },
  {
   "cell_type": "code",
   "execution_count": 18,
   "id": "f2da7c0c",
   "metadata": {},
   "outputs": [
    {
     "name": "stdout",
     "output_type": "stream",
     "text": [
      "0.9363794803307173\n"
     ]
    }
   ],
   "source": [
    "hi = normal_upper_bound(0.95, mu_0, sigma_0)\n",
    "\n",
    "type_2_probability = normal_probability_below(hi, mu_1, sigma_1)\n",
    "power = 1 - type_2_probability\n",
    "print(power)"
   ]
  },
  {
   "cell_type": "code",
   "execution_count": null,
   "id": "611e4d19",
   "metadata": {},
   "outputs": [],
   "source": [
    "def two_sidded_p_value(x: float, mu: float = 0, sigma: float = 1) -> float:\n",
    "    if x >= mu:\n",
    "        return 2 * normal_probability_above(x, mu, sigma)\n",
    "    else:\n",
    "        return 2 * normal_probability_below(x, mu, sigma)"
   ]
  },
  {
   "cell_type": "code",
   "execution_count": 22,
   "id": "dce476ef",
   "metadata": {},
   "outputs": [
    {
     "data": {
      "text/plain": [
       "0.06207721579598835"
      ]
     },
     "execution_count": 22,
     "metadata": {},
     "output_type": "execute_result"
    }
   ],
   "source": [
    "two_sidded_p_value(529.5, mu_0, sigma_0)"
   ]
  },
  {
   "cell_type": "code",
   "execution_count": 57,
   "id": "5d76b606",
   "metadata": {},
   "outputs": [
    {
     "name": "stdout",
     "output_type": "stream",
     "text": [
      "65\n"
     ]
    }
   ],
   "source": [
    "extreme_value_count = 0\n",
    "\n",
    "for _ in range(1000):\n",
    "    num_heads = sum(1 if random.random() < 0.5 else 0 for _ in range(1000))\n",
    "\n",
    "    if num_heads >= 530 or num_heads <= 470:\n",
    "        extreme_value_count += 1\n",
    "\n",
    "print(extreme_value_count)"
   ]
  },
  {
   "cell_type": "code",
   "execution_count": null,
   "id": "4637c9e9",
   "metadata": {},
   "outputs": [
    {
     "name": "stdout",
     "output_type": "stream",
     "text": [
      "42\n"
     ]
    }
   ],
   "source": [
    "def run_experiment() -> List[bool]:\n",
    "\n",
    "    return [random.random() < 0.5 for _ in range(1000)]\n",
    "\n",
    "\n",
    "def reject_fairness(experiment: List[bool]) -> bool:\n",
    "\n",
    "    num_heads = len([flip for flip in experiment if flip])\n",
    "\n",
    "    return num_heads < 469 or num_heads > 531\n",
    "\n",
    "\n",
    "random.seed(42)\n",
    "experiments = [run_experiment() for _ in range(1000)]\n",
    "\n",
    "num_rejections = len(\n",
    "    [experiment for experiment in experiments if reject_fairness(experiment)]\n",
    ")\n",
    "\n",
    "print(num_rejections)"
   ]
  },
  {
   "cell_type": "code",
   "execution_count": null,
   "id": "e72b82c0",
   "metadata": {},
   "outputs": [],
   "source": [
    "def estimated_parameters(N: int, n: int) -> Tuple[float, float]:\n",
    "    p = n / N\n",
    "    sigma = math.sqrt(p * (1 - p) / N)\n",
    "    return p, sigma\n",
    "\n",
    "\n",
    "def a_b_test_statistic(N_A: int, n_A: int, N_B: int, n_B: int) -> float:\n",
    "    p_A, sigma_A = estimated_parameters(N_A, n_A)\n",
    "    p_B, sigma_B = estimated_parameters(N_B, n_B)\n",
    "\n",
    "    return (p_B - p_A) / math.sqrt(sigma_A**2 + sigma_B**2)"
   ]
  },
  {
   "cell_type": "code",
   "execution_count": 65,
   "id": "21ba2619",
   "metadata": {},
   "outputs": [
    {
     "name": "stdout",
     "output_type": "stream",
     "text": [
      "-1.1403464899034472\n"
     ]
    }
   ],
   "source": [
    "z = a_b_test_statistic(1000, 200, 1000, 180)\n",
    "print(z)"
   ]
  },
  {
   "cell_type": "code",
   "execution_count": 66,
   "id": "911242c6",
   "metadata": {},
   "outputs": [
    {
     "data": {
      "text/plain": [
       "0.254141976542236"
      ]
     },
     "execution_count": 66,
     "metadata": {},
     "output_type": "execute_result"
    }
   ],
   "source": [
    "two_sidded_p_value(z)"
   ]
  },
  {
   "cell_type": "code",
   "execution_count": 67,
   "id": "86a489cf",
   "metadata": {},
   "outputs": [
    {
     "data": {
      "text/plain": [
       "0.003189699706216853"
      ]
     },
     "execution_count": 67,
     "metadata": {},
     "output_type": "execute_result"
    }
   ],
   "source": [
    "z = a_b_test_statistic(1000, 200, 1000, 150)\n",
    "two_sidded_p_value(z)"
   ]
  },
  {
   "cell_type": "code",
   "execution_count": null,
   "id": "8805f62f",
   "metadata": {},
   "outputs": [],
   "source": [
    "def B(alpha: float, beta: float) -> float:\n",
    "    return math.gamma(alpha) * math.gamma(beta) / math.gamma(alpha + beta)\n",
    "\n",
    "\n",
    "def beta_pdf(x: float, alpha: float, beta: float) -> float:\n",
    "\n",
    "    if x <= 0 or x >= 1:\n",
    "        return 0\n",
    "\n",
    "    return x ** (alpha - 1) * (1 - x) ** (beta - 1) / B(alpha, beta)"
   ]
  }
 ],
 "metadata": {
  "kernelspec": {
   "display_name": ".venv",
   "language": "python",
   "name": "python3"
  },
  "language_info": {
   "codemirror_mode": {
    "name": "ipython",
    "version": 3
   },
   "file_extension": ".py",
   "mimetype": "text/x-python",
   "name": "python",
   "nbconvert_exporter": "python",
   "pygments_lexer": "ipython3",
   "version": "3.10.11"
  }
 },
 "nbformat": 4,
 "nbformat_minor": 5
}
