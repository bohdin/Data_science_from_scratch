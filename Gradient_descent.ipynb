{
 "cells": [
  {
   "cell_type": "code",
   "execution_count": 31,
   "id": "e7305284",
   "metadata": {},
   "outputs": [],
   "source": [
    "from typing import Callable, TypeVar, List, Iterator\n",
    "from scratch.linear_algebra import Vector, distance, add, scalar_multiply, vector_mean\n",
    "import matplotlib.pyplot as plt\n",
    "import random"
   ]
  },
  {
   "cell_type": "code",
   "execution_count": 3,
   "id": "eade7cbf",
   "metadata": {},
   "outputs": [],
   "source": [
    "def difference_qoutient(f: Callable[[float], float], x: float, h: float) -> float:\n",
    "    return (f(x + h) - f(x)) / h"
   ]
  },
  {
   "cell_type": "code",
   "execution_count": 4,
   "id": "705ad087",
   "metadata": {},
   "outputs": [],
   "source": [
    "def square(x: float) -> float:\n",
    "    return x * x\n",
    "\n",
    "\n",
    "def derivative(x: float) -> float:\n",
    "    return 2 * x"
   ]
  },
  {
   "cell_type": "code",
   "execution_count": 5,
   "id": "63d172c9",
   "metadata": {},
   "outputs": [
    {
     "data": {
      "image/png": "[encoded data removed]",
      "text/plain": [
       "<Figure size 640x480 with 1 Axes>"
      ]
     },
     "metadata": {},
     "output_type": "display_data"
    }
   ],
   "source": [
    "xs = range(-10, 11)\n",
    "actuals = [derivative(x) for x in xs]\n",
    "estimates = [difference_qoutient(square, x, h=0.001) for x in xs]\n",
    "\n",
    "plt.title(\"Actual Derivatives vs. Estimates\")\n",
    "plt.plot(xs, actuals, 'rx', label='Actual')\n",
    "plt.plot(xs, estimates, 'b+', label='Estimate')\n",
    "plt.legend(loc=9)\n",
    "plt.show()"
   ]
  },
  {
   "cell_type": "code",
   "execution_count": null,
   "id": "a056abcf",
   "metadata": {},
   "outputs": [],
   "source": [
    "def partial_difference_quotient(f: Callable[[Vector], float],\n",
    "                                v: Vector,\n",
    "                                i: int,\n",
    "                                h: float) -> float:\n",
    "    w = [ v_i + (h if i == j else 0) for j, v_i in enumerate(v)]\n",
    "\n",
    "    return (f(w) - f(v)) / h"
   ]
  },
  {
   "cell_type": "code",
   "execution_count": null,
   "id": "5f2be3db",
   "metadata": {},
   "outputs": [],
   "source": [
    "def estimate_gradient(f: Callable[[Vector], float],\n",
    "                      v: Vector,\n",
    "                      h: float = 0.0001):\n",
    "    \n",
    "    return [partial_difference_quotient(f, v, i, h) for i in range(len(v))]\n"
   ]
  },
  {
   "cell_type": "code",
   "execution_count": 21,
   "id": "8705663e",
   "metadata": {},
   "outputs": [
    {
     "name": "stdout",
     "output_type": "stream",
     "text": [
      "0 [-2.7934461614636024, -1.7845567659048145, 3.816491966845458]\n",
      "100 [-0.37046558934920615, -0.2366671257632734, 0.5061414697189376]\n",
      "200 [-0.04913098193377977, -0.031386689113613, 0.06712425693404321]\n",
      "300 [-0.006515729004731017, -0.004162488771254043, 0.008901989144358127]\n",
      "400 [-0.0008641130869379897, -0.0005520274122606078, 0.0011805778469046889]\n",
      "500 [-0.00011459829383256035, -7.320963025573159e-05, 0.00015656770975568373]\n",
      "600 [-1.5197974834370577e-05, -9.709028651734209e-06, 2.076394013525738e-05]\n",
      "700 [-2.0155486730338617e-06, -1.2876070679624254e-06, 2.7537045193630764e-06]\n",
      "800 [-2.6730116990200964e-07, -1.7076187752012223e-07, 3.651950704233062e-07]\n",
      "900 [-3.544936244255251e-08, -2.264636436047287e-08, 4.843200805449196e-08]\n",
      "1000 [-4.70127870388346e-09, -3.003350784116677e-09, 6.423031399277832e-09]\n",
      "8.507494915670027e-09\n"
     ]
    }
   ],
   "source": [
    "def gradient_step(v: Vector, gradient: Vector, step_size: float) -> Vector:\n",
    "    \n",
    "    assert len(v) == len(gradient)\n",
    "\n",
    "    step = scalar_multiply(step_size, gradient)\n",
    "\n",
    "    return add(v, step)\n",
    "\n",
    "def sum_of_squares_gradient(v: Vector) -> Vector:\n",
    "    return [2 * v_i for v_i in v]\n",
    "\n",
    "v = [random.uniform(-10, 10) for i in range(3)]\n",
    "\n",
    "for epoch in range(1001):\n",
    "    grad = sum_of_squares_gradient(v)\n",
    "    v = gradient_step(v, grad, -0.01)\n",
    "\n",
    "    if epoch == 0 or epoch % 100 == 0:\n",
    "        print(epoch, v)\n",
    "\n",
    "print(distance(v, [0, 0, 0]))"
   ]
  },
  {
   "cell_type": "code",
   "execution_count": null,
   "id": "28e3ef30",
   "metadata": {},
   "outputs": [],
   "source": [
    "def linear_gradient(x: float, y: float, theta: Vector) -> Vector:\n",
    "    slope, intercept = theta\n",
    "    predicted = slope * x + intercept\n",
    "    error = predicted - y\n",
    "    squared_error = error ** 2\n",
    "    grad = [2 * error * x, 2 * error]\n",
    "    return grad"
   ]
  },
  {
   "cell_type": "code",
   "execution_count": 30,
   "id": "c7bb6afe",
   "metadata": {},
   "outputs": [
    {
     "name": "stdout",
     "output_type": "stream",
     "text": [
      "0 [33.85186221023662, 0.9654900873045227]\n",
      "100 [19.99802047937513, 1.7040969706895874]\n",
      "200 [19.998379532609874, 2.301920822187037]\n",
      "300 [19.998673459357043, 2.7913090327566574]\n",
      "400 [19.998914072515042, 3.19193008533699]\n",
      "[19.99910926137003, 3.5169196461222936]\n"
     ]
    }
   ],
   "source": [
    "inputs = [(x, 20 * x + 5) for x in range(-50, 50)]\n",
    "\n",
    "theta = [random.uniform(-1, 1), random.uniform(-1, 1)]\n",
    "\n",
    "learning_rate = 0.001\n",
    "\n",
    "for epoch in range(500):\n",
    "    grad = vector_mean([linear_gradient(x, y, theta) for x, y in inputs])\n",
    "\n",
    "    theta = gradient_step(theta, grad, -learning_rate)\n",
    "\n",
    "    if epoch == 0 or epoch % 100 == 0:\n",
    "        print(epoch, theta)\n",
    "\n",
    "print(theta)"
   ]
  },
  {
   "cell_type": "code",
   "execution_count": 32,
   "id": "314be753",
   "metadata": {},
   "outputs": [],
   "source": [
    "T = TypeVar('T')"
   ]
  },
  {
   "cell_type": "code",
   "execution_count": 33,
   "id": "ebdcd15e",
   "metadata": {},
   "outputs": [],
   "source": [
    "def minibatches(dataset: List[T],\n",
    "                batch_size: int,\n",
    "                shuffle: bool = True) -> Iterator[List[T]]:\n",
    "    batch_starts = [start for start in range(0, len(dataset), batch_size)]\n",
    "\n",
    "    if shuffle: random.shuffle(batch_starts)\n",
    "\n",
    "    for start in batch_starts:\n",
    "        end = start + batch_size\n",
    "        yield dataset[start:end]\n"
   ]
  },
  {
   "cell_type": "code",
   "execution_count": 34,
   "id": "9d8a7b2d",
   "metadata": {},
   "outputs": [
    {
     "name": "stdout",
     "output_type": "stream",
     "text": [
      "0 [17.14908674482433, -0.7242137821661204]\n",
      "100 [20.000389100501067, 3.6806024973061335]\n",
      "200 [19.98765774974719, 4.714514441150522]\n",
      "300 [20.00237954418017, 4.943622296083909]\n",
      "400 [19.9963990208298, 4.978082441079873]\n",
      "[19.99998317385276, 4.995009454787987]\n"
     ]
    }
   ],
   "source": [
    "inputs = [(x, 20 * x + 5) for x in range(-50, 50)]\n",
    "\n",
    "theta = [random.uniform(-1, 1), random.uniform(-1, 1)]\n",
    "\n",
    "learning_rate = 0.001\n",
    "\n",
    "for epoch in range(500):\n",
    "    for batch in minibatches(inputs, batch_size=20):\n",
    "        grad = vector_mean([linear_gradient(x, y, theta) for x, y in batch])\n",
    "        theta = gradient_step(theta, grad, -learning_rate)\n",
    "\n",
    "    if epoch == 0 or epoch % 100 == 0:\n",
    "        print(epoch, theta)\n",
    "\n",
    "print(theta)"
   ]
  },
  {
   "cell_type": "code",
   "execution_count": 41,
   "id": "22fe4787",
   "metadata": {},
   "outputs": [
    {
     "name": "stdout",
     "output_type": "stream",
     "text": [
      "0 [20.087242414846404, 0.6577687465943391]\n",
      "100 [20.00108714518762, 4.94589046209264]\n",
      "200 [20.000013534001706, 4.999325729261802]\n",
      "300 [20.000000172383043, 4.999991597576358]\n",
      "400 [19.999999996974314, 4.999999895383629]\n",
      "[20.00000000735524, 5.000000000145529]\n"
     ]
    }
   ],
   "source": [
    "inputs = [(x, 20 * x + 5) for x in range(-50, 50)]\n",
    "\n",
    "theta = [random.uniform(-1, 1), random.uniform(-1, 1)]\n",
    "\n",
    "learning_rate = 0.001\n",
    "\n",
    "for epoch in range(500):\n",
    "    for x, y in inputs:\n",
    "        grad = linear_gradient(x, y, theta)\n",
    "        theta = gradient_step(theta, grad, -learning_rate)\n",
    "\n",
    "    if epoch == 0 or epoch % 100 == 0:\n",
    "        print(epoch, theta)\n",
    "\n",
    "print(theta)"
   ]
  }
 ],
 "metadata": {
  "kernelspec": {
   "display_name": ".venv",
   "language": "python",
   "name": "python3"
  },
  "language_info": {
   "codemirror_mode": {
    "name": "ipython",
    "version": 3
   },
   "file_extension": ".py",
   "mimetype": "text/x-python",
   "name": "python",
   "nbconvert_exporter": "python",
   "pygments_lexer": "ipython3",
   "version": "3.10.11"
  }
 },
 "nbformat": 4,
 "nbformat_minor": 5
}
