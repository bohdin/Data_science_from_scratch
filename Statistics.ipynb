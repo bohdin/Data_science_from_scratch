{
 "cells": [
  {
   "cell_type": "code",
   "execution_count": 43,
   "id": "ffa8105a",
   "metadata": {},
   "outputs": [],
   "source": [
    "from collections import Counter\n",
    "import matplotlib.pyplot as plt\n",
    "from typing import List\n",
    "from scratch.linear_algebra import sum_of_squares, dot\n",
    "import math "
   ]
  },
  {
   "cell_type": "code",
   "execution_count": null,
   "id": "40c3fe01",
   "metadata": {},
   "outputs": [],
   "source": [
    "num_friends = [100.0,49,41,40,25,21,21,19,19,18,18,16,15,15,15,15,14,14,13,13,13,13,12,12,11,10,10,10,10,10,10,10,10,10,10,10,10,10,10,10,9,9,9,9,9,9,9,9,9,9,9,9,9,9,9,9,9,9,8,8,8,8,8,8,8,8,8,8,8,8,8,7,7,7,7,7,7,7,7,7,7,7,7,7,7,7,6,6,6,6,6,6,6,6,6,6,6,6,6,6,6,6,6,6,6,6,6,6,5,5,5,5,5,5,5,5,5,5,5,5,5,5,5,5,5,4,4,4,4,4,4,4,4,4,4,4,4,4,4,4,4,4,4,4,4,3,3,3,3,3,3,3,3,3,3,3,3,3,3,3,3,3,3,3,3,2,2,2,2,2,2,2,2,2,2,2,2,2,2,2,2,2,1,1,1,1,1,1,1,1,1,1,1,1,1,1,1,1,1,1,1,1,1,1]"
   ]
  },
  {
   "cell_type": "code",
   "execution_count": 11,
   "id": "23564153",
   "metadata": {},
   "outputs": [
    {
     "data": {
      "image/png": "[encoded data removed]",
      "text/plain": [
       "<Figure size 640x480 with 1 Axes>"
      ]
     },
     "metadata": {},
     "output_type": "display_data"
    }
   ],
   "source": [
    "friend_counts = Counter(num_friends)\n",
    "xs = range(int(max(num_friends)) + 1)\n",
    "ys = [friend_counts[x] for x in xs]\n",
    "\n",
    "plt.bar(xs, ys)\n",
    "plt.axis([0, 101, 0, 25])\n",
    "plt.ylabel(\"of people\")\n",
    "plt.xlabel(\"of friend\")\n",
    "plt.show()"
   ]
  },
  {
   "cell_type": "code",
   "execution_count": 13,
   "id": "4917e1dc",
   "metadata": {},
   "outputs": [
    {
     "name": "stdout",
     "output_type": "stream",
     "text": [
      "largest value: 100.0\n",
      "smallest value: 1\n",
      "second largest value: 49\n",
      "second smallest value: 1\n"
     ]
    }
   ],
   "source": [
    "num_points = len(num_friends)\n",
    "largest_value = max(num_friends)\n",
    "smallest_value = min(num_friends)\n",
    "\n",
    "sorted_values = sorted(num_friends)\n",
    "second_largest_value = sorted_values[-2]\n",
    "second_smallest_value = sorted_values[1]\n",
    "\n",
    "print(f\"largest value: {largest_value}\")\n",
    "print(f\"smallest value: {smallest_value}\")\n",
    "print(f\"second largest value: {second_largest_value}\")\n",
    "print(f\"second smallest value: {second_smallest_value}\")"
   ]
  },
  {
   "cell_type": "code",
   "execution_count": null,
   "id": "5fa7ee38",
   "metadata": {},
   "outputs": [],
   "source": [
    "def mean(x: List[float]) -> float:\n",
    "\n",
    "    return sum(x) / len(x)\n",
    "\n",
    "\n",
    "assert 7.333 < mean(num_friends) < 7.334"
   ]
  },
  {
   "cell_type": "code",
   "execution_count": null,
   "id": "c3b5aafb",
   "metadata": {},
   "outputs": [],
   "source": [
    "def _median_odd(x: List[float]) -> float:\n",
    "\n",
    "    return sorted(x)[len(x) // 2]\n",
    "\n",
    "\n",
    "def _median_even(x: List[float]) -> float:\n",
    "    sorted_x = sorted(x)\n",
    "    midpoint = len(x) // 2\n",
    "\n",
    "    return (sorted_x[midpoint - 1] + sorted_x[midpoint]) / 2\n",
    "\n",
    "\n",
    "def median(v: List[float]) -> float:\n",
    "\n",
    "    return _median_even(v) if len(v) % 2 == 0 else _median_odd(v)\n",
    "\n",
    "\n",
    "assert median([1, 10, 2, 9, 5]) == 5\n",
    "assert median([1, 9, 2, 10]) == (2 + 9) / 2"
   ]
  },
  {
   "cell_type": "code",
   "execution_count": null,
   "id": "294bf305",
   "metadata": {},
   "outputs": [],
   "source": [
    "def quantile(v: List[float], p: float) -> float:\n",
    "    p_index = int(p * len(v))\n",
    "    \n",
    "    return sorted(v)[p_index]\n",
    "\n",
    "\n",
    "assert quantile(num_friends, 0.10) == 1\n",
    "assert quantile(num_friends, 0.25) == 3\n",
    "assert quantile(num_friends, 0.75) == 9\n",
    "assert quantile(num_friends, 0.90) == 13"
   ]
  },
  {
   "cell_type": "code",
   "execution_count": null,
   "id": "ead38946",
   "metadata": {},
   "outputs": [],
   "source": [
    "def mode(v: List[float]) -> float:\n",
    "    counts = Counter(v)\n",
    "    max_count = max(counts.values())\n",
    "\n",
    "    return [x_i for x_i, count in counts.items() if count == max_count]\n",
    "\n",
    "\n",
    "assert set(mode(num_friends)) == {1, 6}"
   ]
  },
  {
   "cell_type": "code",
   "execution_count": 36,
   "id": "3b098f5e",
   "metadata": {},
   "outputs": [],
   "source": [
    "def data_range(v: List[float]) -> float:\n",
    "\n",
    "    return max(v) - min(v)\n",
    "\n",
    "\n",
    "assert data_range(num_friends) == 99"
   ]
  },
  {
   "cell_type": "code",
   "execution_count": null,
   "id": "f9857d01",
   "metadata": {},
   "outputs": [],
   "source": [
    "def de_mean(x: List[float]) -> List[float]:\n",
    "    x_bar = mean(x)\n",
    "\n",
    "    return [x_i - x_bar for x_i in x]\n",
    "\n",
    "\n",
    "def variance(v: List[float]) -> float:\n",
    "    assert len(v) >= 2, \"variance requires at least two elements\"\n",
    "\n",
    "    n = len(v)\n",
    "    deviations = de_mean(v)\n",
    "\n",
    "    return sum_of_squares(deviations) / (n - 1)\n",
    "\n",
    "\n",
    "assert 81.54 < variance(num_friends) < 81.55"
   ]
  },
  {
   "cell_type": "code",
   "execution_count": null,
   "id": "52a38792",
   "metadata": {},
   "outputs": [],
   "source": [
    "def standard_deviation(v: List[float]) -> float:\n",
    "\n",
    "    return math.sqrt(variance(v))\n",
    "\n",
    "\n",
    "assert 9.02 < standard_deviation(num_friends) < 9.04"
   ]
  },
  {
   "cell_type": "code",
   "execution_count": null,
   "id": "71b52da6",
   "metadata": {},
   "outputs": [],
   "source": [
    "def interquartile_range(v: List[float]) -> float:\n",
    "\n",
    "    return quantile(v, 0.75) - quantile(v, 0.25)\n",
    "\n",
    "\n",
    "assert interquartile_range(num_friends) == 6"
   ]
  },
  {
   "cell_type": "code",
   "execution_count": null,
   "id": "280f8478",
   "metadata": {},
   "outputs": [],
   "source": [
    "daily_minutes = [1,68.77,51.25,52.08,38.36,44.54,57.13,51.4,41.42,31.22,34.76,54.01,38.79,47.59,49.1,27.66,41.03,36.73,48.65,28.12,46.62,35.57,32.98,35,26.07,23.77,39.73,40.57,31.65,31.21,36.32,20.45,21.93,26.02,27.34,23.49,46.94,30.5,33.8,24.23,21.4,27.94,32.24,40.57,25.07,19.42,22.39,18.42,46.96,23.72,26.41,26.97,36.76,40.32,35.02,29.47,30.2,31,38.11,38.18,36.31,21.03,30.86,36.07,28.66,29.08,37.28,15.28,24.17,22.31,30.17,25.53,19.85,35.37,44.6,17.23,13.47,26.33,35.02,32.09,24.81,19.33,28.77,24.26,31.98,25.73,24.86,16.28,34.51,15.23,39.72,40.8,26.06,35.76,34.76,16.13,44.04,18.03,19.65,32.62,35.59,39.43,14.18,35.24,40.13,41.82,35.45,36.07,43.67,24.61,20.9,21.9,18.79,27.61,27.21,26.61,29.77,20.59,27.53,13.82,33.2,25,33.1,36.65,18.63,14.87,22.2,36.81,25.53,24.62,26.25,18.21,28.08,19.42,29.79,32.8,35.99,28.32,27.79,35.88,29.06,36.28,14.1,36.63,37.49,26.9,18.58,38.48,24.48,18.95,33.55,14.24,29.04,32.51,25.63,22.22,19,32.73,15.16,13.9,27.2,32.01,29.27,33,13.74,20.42,27.32,18.23,35.35,28.48,9.08,24.62,20.12,35.26,19.92,31.02,16.49,12.16,30.7,31.22,34.65,13.13,27.51,33.2,31.57,14.1,33.42,17.44,10.12,24.42,9.82,23.39,30.93,15.03,21.67,31.09,33.29,22.61,26.89,23.48,8.38,27.81,32.35,23.84]\n",
    "\n",
    "daily_hours = [dm / 60 for dm in daily_minutes]"
   ]
  },
  {
   "cell_type": "code",
   "execution_count": null,
   "id": "69825d96",
   "metadata": {},
   "outputs": [],
   "source": [
    "def covariance(x: List[float], y: List[float]) -> float:\n",
    "    assert len(x) == len(y), \"x and y must have same numver of elements\"\n",
    "\n",
    "    return dot(de_mean(x), de_mean(y)) / (len(x) - 1)\n",
    "\n",
    "\n",
    "assert 22.42 < covariance(num_friends, daily_minutes) < 22.43\n",
    "assert 22.42 / 60 < covariance(num_friends, daily_hours) < 22.43 / 60"
   ]
  },
  {
   "cell_type": "code",
   "execution_count": null,
   "id": "73d2c483",
   "metadata": {},
   "outputs": [],
   "source": [
    "def correlation(x: List[float], y: List[float]) -> float:\n",
    "    stdev_x = standard_deviation(x)\n",
    "    stdev_y = standard_deviation(y)\n",
    "\n",
    "    if stdev_x > 0 and stdev_y > 0:\n",
    "        return covariance(x, y) / stdev_x / stdev_y\n",
    "    else:\n",
    "        return 0\n",
    "\n",
    "\n",
    "assert 0.24 < correlation(num_friends, daily_minutes) < 0.25\n",
    "assert 0.24 < correlation(num_friends, daily_hours) < 0.25"
   ]
  },
  {
   "cell_type": "code",
   "execution_count": 56,
   "id": "369ec6a2",
   "metadata": {},
   "outputs": [
    {
     "data": {
      "image/png": "[encoded data removed]",
      "text/plain": [
       "<Figure size 640x480 with 1 Axes>"
      ]
     },
     "metadata": {},
     "output_type": "display_data"
    }
   ],
   "source": [
    "plt.scatter(num_friends, daily_minutes, s=10)\n",
    "plt.axis([0, 101, 0, 101])\n",
    "plt.show()"
   ]
  },
  {
   "cell_type": "code",
   "execution_count": 58,
   "id": "ec3d5134",
   "metadata": {},
   "outputs": [],
   "source": [
    "outlier = num_friends.index(100)\n",
    "\n",
    "num_friends_good = [x for i, x in enumerate(num_friends) if i != outlier]\n",
    "\n",
    "daily_minutes_good = [x for i, x in enumerate(daily_minutes) if i != outlier]\n",
    "\n",
    "daily_hours_good = [dm / 60 for dm in daily_minutes_good]\n",
    "\n",
    "assert 0.57 < correlation(num_friends_good, daily_minutes_good) < 0.58\n",
    "assert 0.57 < correlation(num_friends_good, daily_hours_good) < 0.58"
   ]
  },
  {
   "cell_type": "code",
   "execution_count": 59,
   "id": "3bab67c2",
   "metadata": {},
   "outputs": [
    {
     "data": {
      "text/plain": [
       "(0.24736957366478218, 0.5736792115665573)"
      ]
     },
     "execution_count": 59,
     "metadata": {},
     "output_type": "execute_result"
    }
   ],
   "source": [
    "correlation(num_friends, daily_minutes), correlation(num_friends_good, daily_minutes_good)"
   ]
  }
 ],
 "metadata": {
  "kernelspec": {
   "display_name": ".venv",
   "language": "python",
   "name": "python3"
  },
  "language_info": {
   "codemirror_mode": {
    "name": "ipython",
    "version": 3
   },
   "file_extension": ".py",
   "mimetype": "text/x-python",
   "name": "python",
   "nbconvert_exporter": "python",
   "pygments_lexer": "ipython3",
   "version": "3.10.11"
  }
 },
 "nbformat": 4,
 "nbformat_minor": 5
}
