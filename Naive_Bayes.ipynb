{
 "cells": [
  {
   "cell_type": "code",
   "execution_count": 35,
   "id": "b6f3eaa4",
   "metadata": {},
   "outputs": [],
   "source": [
    "from typing import Set, NamedTuple, List, Tuple, Dict, Iterable\n",
    "import re\n",
    "import math\n",
    "from collections import defaultdict, Counter\n",
    "from io import BytesIO\n",
    "import requests\n",
    "import tarfile\n",
    "import glob\n",
    "import random\n",
    "from scratch.machine_learning import split_data, precision, recall"
   ]
  },
  {
   "cell_type": "code",
   "execution_count": 36,
   "id": "38e3380c",
   "metadata": {},
   "outputs": [
    {
     "name": "stdout",
     "output_type": "stream",
     "text": [
      "{'data', 'science', 'is'}\n"
     ]
    }
   ],
   "source": [
    "def tokenize(text: str) -> Set[str]:\n",
    "    text = text.lower()\n",
    "    all_words = re.findall(\"[a-z0-9]+\", text)\n",
    "    return set(all_words)\n",
    "\n",
    "print(tokenize(\"Data Science is science\"))"
   ]
  },
  {
   "cell_type": "code",
   "execution_count": 37,
   "id": "51bdfbec",
   "metadata": {},
   "outputs": [],
   "source": [
    "class Message(NamedTuple):\n",
    "    text: str\n",
    "    is_spam: bool"
   ]
  },
  {
   "cell_type": "code",
   "execution_count": 38,
   "id": "4672cf8b",
   "metadata": {},
   "outputs": [],
   "source": [
    "class NaiveBayesClassifier:\n",
    "    def __init__(self, k: float = 0.5):\n",
    "        self.k = k\n",
    "        self.tokens: Set[str] = set()\n",
    "        self.token_spam_counts: Dict[str, int] = defaultdict(int)\n",
    "        self.token_ham_counts: Dict[str, int] = defaultdict(int)\n",
    "        self.spam_messages = self.ham_messages = 0\n",
    "\n",
    "    def train(self, messages: Iterable[Message]) -> None:\n",
    "        for message in messages:\n",
    "            if message.is_spam:\n",
    "                self.spam_messages += 1\n",
    "            else:\n",
    "                self.ham_messages +=1\n",
    "\n",
    "            for token in tokenize(message.text):\n",
    "                self.tokens.add(token)\n",
    "\n",
    "                if message.is_spam:\n",
    "                    self.token_spam_counts[token] += 1\n",
    "                else:\n",
    "                    self.token_ham_counts[token] += 1\n",
    "\n",
    "    def _probabilities(self, token: str) -> Tuple[float, float]:\n",
    "        spam = self.token_spam_counts[token]\n",
    "        ham = self.token_ham_counts[token]\n",
    "\n",
    "        p_token_spam = (spam + self.k) / (self.spam_messages + 2 * self.k)\n",
    "        p_token_ham = (ham + self.k) / (self.ham_messages + 2 * self.k)\n",
    "        \n",
    "        return p_token_spam, p_token_ham\n",
    "    \n",
    "    def predict(self, text: str) -> float:\n",
    "        text_tokens = tokenize(text)\n",
    "        log_prob_if_spam = log_prob_if_ham = 0.0\n",
    "\n",
    "        for token in self.tokens:\n",
    "            prob_if_spam, prob_if_ham = self._probabilities(token)\n",
    "\n",
    "            if token in text_tokens:\n",
    "                log_prob_if_spam += math.log(prob_if_spam)\n",
    "                log_prob_if_ham += math.log(prob_if_ham)\n",
    "            else:\n",
    "                log_prob_if_spam += math.log(1.0 - prob_if_spam)\n",
    "                log_prob_if_ham += math.log(1.0 - prob_if_ham)\n",
    "\n",
    "        prob_if_spam = math.exp(log_prob_if_spam)\n",
    "        prob_if_ham = math.exp(log_prob_if_ham)\n",
    "\n",
    "        return prob_if_spam / (prob_if_spam + prob_if_ham)"
   ]
  },
  {
   "cell_type": "code",
   "execution_count": 39,
   "id": "d591bae7",
   "metadata": {},
   "outputs": [],
   "source": [
    "BASE_URL = 'https://spamassassin.apache.org/old/publiccorpus'\n",
    "FILES = ['20021010_easy_ham.tar.bz2',\n",
    "         '20021010_hard_ham.tar.bz2',\n",
    "         '20021010_spam.tar.bz2']\n",
    "OUTPUT_DIR = 'data/spam_data'\n",
    "\n",
    "for filename in FILES:\n",
    "    content = requests.get(f\"{BASE_URL}/{filename}\").content\n",
    "\n",
    "    fin = BytesIO(content)\n",
    "\n",
    "    with tarfile.open(fileobj=fin, mode='r:bz2') as tf:\n",
    "        tf.extractall(OUTPUT_DIR)"
   ]
  },
  {
   "cell_type": "code",
   "execution_count": 40,
   "id": "930ffa3f",
   "metadata": {},
   "outputs": [],
   "source": [
    "path = 'data/spam_data/*/*'\n",
    "\n",
    "data: List[Message] = []\n",
    "\n",
    "for filename in glob.glob(path):\n",
    "    is_spam = \"ham\" not in filename\n",
    "\n",
    "    with open(filename, errors='ignore') as email_file:\n",
    "        for line in email_file:\n",
    "            if line.startswith(\"Subject:\"):\n",
    "                subject = line.lstrip(\"Subject: \")\n",
    "                subject = subject.strip()\n",
    "                data.append(Message(subject, is_spam))\n",
    "                break\n"
   ]
  },
  {
   "cell_type": "code",
   "execution_count": 41,
   "id": "f1198334",
   "metadata": {},
   "outputs": [],
   "source": [
    "random.seed(42)\n",
    "\n",
    "train_messages, test_messages = split_data(data, 0.75)\n",
    "model = NaiveBayesClassifier()\n",
    "model.train(train_messages)"
   ]
  },
  {
   "cell_type": "code",
   "execution_count": 42,
   "id": "6e41f568",
   "metadata": {},
   "outputs": [
    {
     "name": "stdout",
     "output_type": "stream",
     "text": [
      "Counter({(False, False): 690, (True, True): 70, (True, False): 45, (False, True): 20})\n"
     ]
    }
   ],
   "source": [
    "predictions = [(message, model.predict(message.text)) for message in test_messages]\n",
    "\n",
    "confusion_matrix = Counter((message.is_spam, spam_probability > 0.5) for message, spam_probability in predictions)\n",
    "\n",
    "print(confusion_matrix)\n"
   ]
  },
  {
   "cell_type": "code",
   "execution_count": 43,
   "id": "b8a6e15c",
   "metadata": {},
   "outputs": [],
   "source": [
    "tp, fp, fn, tn = confusion_matrix[True, True], confusion_matrix[False, True], confusion_matrix[True, False], confusion_matrix[False, False]"
   ]
  },
  {
   "cell_type": "code",
   "execution_count": 44,
   "id": "5c52c1de",
   "metadata": {},
   "outputs": [
    {
     "name": "stdout",
     "output_type": "stream",
     "text": [
      "0.7777777777777778\n",
      "0.6086956521739131\n"
     ]
    }
   ],
   "source": [
    "print(precision(tp, fp, fn, tn))\n",
    "print(recall(tp, fp, fn, tn))"
   ]
  },
  {
   "cell_type": "code",
   "execution_count": 45,
   "id": "021a7f9f",
   "metadata": {},
   "outputs": [
    {
     "name": "stdout",
     "output_type": "stream",
     "text": [
      "spammiest_words ['norton', 'clearance', 'account', 'attn', 'mortgage', 'zzzz', 'sale', 'systemworks', 'money', 'adv']\n",
      "hammiest_words ['spambayes', 'users', 'razor', 'zzzzteana', 'sadev', 'apt', 'ouch', 'spamassassin', 'bliss', 'wedded']\n"
     ]
    }
   ],
   "source": [
    "def p_spam_given_token(token: str, model: NaiveBaiseClassifier) -> float:\n",
    "    prob_if_spam, prob_if_ham = model._probabilities(token)\n",
    "\n",
    "    return prob_if_spam / (prob_if_spam + prob_if_ham)\n",
    "\n",
    "words = sorted(model.tokens, key= lambda t: p_spam_given_token(t, model))\n",
    "print(\"spammiest_words\", words[-10:])\n",
    "print(\"hammiest_words\", words[:10])"
   ]
  }
 ],
 "metadata": {
  "kernelspec": {
   "display_name": ".venv",
   "language": "python",
   "name": "python3"
  },
  "language_info": {
   "codemirror_mode": {
    "name": "ipython",
    "version": 3
   },
   "file_extension": ".py",
   "mimetype": "text/x-python",
   "name": "python",
   "nbconvert_exporter": "python",
   "pygments_lexer": "ipython3",
   "version": "3.10.11"
  }
 },
 "nbformat": 4,
 "nbformat_minor": 5
}
